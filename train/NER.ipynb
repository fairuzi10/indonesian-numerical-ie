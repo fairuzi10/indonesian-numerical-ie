{
  "nbformat": 4,
  "nbformat_minor": 0,
  "metadata": {
    "colab": {
      "name": "Final TA-NER.ipynb",
      "provenance": [],
      "collapsed_sections": [],
      "toc_visible": true
    },
    "kernelspec": {
      "display_name": "Python 3",
      "name": "python3"
    }
  },
  "cells": [
    {
      "cell_type": "markdown",
      "metadata": {
        "id": "EN9mY_CFdhHl"
      },
      "source": [
        "# Indonesian NER Tagging using CRF"
      ]
    },
    {
      "cell_type": "markdown",
      "metadata": {
        "id": "FKaHPZPydoRh"
      },
      "source": [
        "Install the needed library"
      ]
    },
    {
      "cell_type": "code",
      "metadata": {
        "colab": {
          "base_uri": "https://localhost:8080/"
        },
        "id": "wxNx4HXr53xb",
        "outputId": "5f9c4f26-2fa0-43d2-eef7-98d71a087fa9"
      },
      "source": [
        "!pip install sklearn_crfsuite\n",
        "!pip install seqeval"
      ],
      "execution_count": null,
      "outputs": [
        {
          "output_type": "stream",
          "text": [
            "Requirement already satisfied: sklearn_crfsuite in /usr/local/lib/python3.6/dist-packages (0.3.6)\n",
            "Requirement already satisfied: tabulate in /usr/local/lib/python3.6/dist-packages (from sklearn_crfsuite) (0.8.7)\n",
            "Requirement already satisfied: tqdm>=2.0 in /usr/local/lib/python3.6/dist-packages (from sklearn_crfsuite) (4.41.1)\n",
            "Requirement already satisfied: python-crfsuite>=0.8.3 in /usr/local/lib/python3.6/dist-packages (from sklearn_crfsuite) (0.9.7)\n",
            "Requirement already satisfied: six in /usr/local/lib/python3.6/dist-packages (from sklearn_crfsuite) (1.15.0)\n",
            "Requirement already satisfied: seqeval in /usr/local/lib/python3.6/dist-packages (1.2.2)\n",
            "Requirement already satisfied: numpy>=1.14.0 in /usr/local/lib/python3.6/dist-packages (from seqeval) (1.19.5)\n",
            "Requirement already satisfied: scikit-learn>=0.21.3 in /usr/local/lib/python3.6/dist-packages (from seqeval) (0.22.2.post1)\n",
            "Requirement already satisfied: joblib>=0.11 in /usr/local/lib/python3.6/dist-packages (from scikit-learn>=0.21.3->seqeval) (1.0.0)\n",
            "Requirement already satisfied: scipy>=0.17.0 in /usr/local/lib/python3.6/dist-packages (from scikit-learn>=0.21.3->seqeval) (1.4.1)\n"
          ],
          "name": "stdout"
        }
      ]
    },
    {
      "cell_type": "markdown",
      "metadata": {
        "id": "5Ub_91yld1BD"
      },
      "source": [
        "POS tagger from the previous POS tagger training"
      ]
    },
    {
      "cell_type": "code",
      "metadata": {
        "colab": {
          "base_uri": "https://localhost:8080/"
        },
        "id": "UzVZ36s3QihY",
        "outputId": "b1603f91-540d-4700-8dd9-130fb6df0da9"
      },
      "source": [
        "import nltk\n",
        "from nltk.tokenize import word_tokenize\n",
        "import sklearn_crfsuite\n",
        "import pickle\n",
        "nltk.download('punkt')\n",
        "\n",
        "class POSTagger():\n",
        "  def __init__(self):\n",
        "    with open('model_postag', 'rb') as model:\n",
        "      self.model = pickle.load(model)\n",
        "\n",
        "  def tag(self, sent):\n",
        "    if isinstance(sent, list):\n",
        "      self.sent_tokenized = sent\n",
        "    elif isinstance(sent, str):\n",
        "      self.sent_tokenized = word_tokenize(sent)\n",
        "    self.pos_tags = self.model.predict_single(self.word2features(self.sent_tokenized))\n",
        "    return self.pos_tags\n",
        "\n",
        "  def word2features(self, sent):\n",
        "    feature_list = []\n",
        "    for i in range(len(sent)):\n",
        "      token = sent[i]\n",
        "      features = {\n",
        "          'token': token,\n",
        "          'token.lower()': token.lower(),\n",
        "          'token.istitle()': token.istitle(),\n",
        "          'token.isupper()': token.isupper(),\n",
        "          'token[:2]': token[:2],\n",
        "          'token[:3]': token[:3],\n",
        "          'token[-3:]': token[:-3],\n",
        "          'token[-2:]': token[:-2],\n",
        "      }\n",
        "      if i > 0:\n",
        "          token1 = sent[i-1]\n",
        "          features.update({\n",
        "              '-1:token.lower()': token1.lower(),\n",
        "              '-1:token.istitle()': token1.istitle(),\n",
        "              '-1:token.isupper()': token1.isupper(),\n",
        "          })\n",
        "      else:\n",
        "          features['BOS'] = True\n",
        "      if i < len(sent)-1:\n",
        "          token1 = sent[i+1]\n",
        "          features.update({\n",
        "              '+1:token.lower()': token1.lower(),\n",
        "              '+1:token.istitle()': token1.istitle(),\n",
        "              '+1:token.isupper()': token1.isupper(),\n",
        "          })\n",
        "      else:\n",
        "          features['EOS'] = True\n",
        "      \n",
        "      feature_list.append(features)\n",
        "\n",
        "    return feature_list"
      ],
      "execution_count": null,
      "outputs": [
        {
          "output_type": "stream",
          "text": [
            "[nltk_data] Downloading package punkt to /root/nltk_data...\n",
            "[nltk_data]   Package punkt is already up-to-date!\n"
          ],
          "name": "stdout"
        }
      ]
    },
    {
      "cell_type": "markdown",
      "metadata": {
        "id": "9PWYyAUbdv0k"
      },
      "source": [
        "Import the used libraries"
      ]
    },
    {
      "cell_type": "code",
      "metadata": {
        "id": "UdBHJvee8iaP"
      },
      "source": [
        "import pandas as pd\n",
        "import numpy as np\n",
        "from seqeval.metrics import classification_report as entity_classification_report\n",
        "from sklearn.model_selection import train_test_split\n",
        "import sklearn_crfsuite\n",
        "from sklearn_crfsuite import metrics\n",
        "from collections import Counter\n",
        "import pickle\n",
        "import matplotlib.pyplot as plt\n",
        "import seaborn as sns"
      ],
      "execution_count": null,
      "outputs": []
    },
    {
      "cell_type": "markdown",
      "metadata": {
        "id": "GGjnbMqIetC4"
      },
      "source": [
        "Read the dataset. The dataset is from http://ner.grit.id/ but converted into CSV for easier processing"
      ]
    },
    {
      "cell_type": "code",
      "metadata": {
        "colab": {
          "base_uri": "https://localhost:8080/",
          "height": 204
        },
        "id": "nhW2lq4IjCjv",
        "outputId": "282f759f-f000-423f-9a3f-2473d8ae15e7"
      },
      "source": [
        "data = pd.read_csv('data/ner.csv', keep_default_na=False)\n",
        "data.head()"
      ],
      "execution_count": null,
      "outputs": [
        {
          "output_type": "execute_result",
          "data": {
            "text/html": [
              "<div>\n",
              "<style scoped>\n",
              "    .dataframe tbody tr th:only-of-type {\n",
              "        vertical-align: middle;\n",
              "    }\n",
              "\n",
              "    .dataframe tbody tr th {\n",
              "        vertical-align: top;\n",
              "    }\n",
              "\n",
              "    .dataframe thead th {\n",
              "        text-align: right;\n",
              "    }\n",
              "</style>\n",
              "<table border=\"1\" class=\"dataframe\">\n",
              "  <thead>\n",
              "    <tr style=\"text-align: right;\">\n",
              "      <th></th>\n",
              "      <th>sentence_num</th>\n",
              "      <th>token</th>\n",
              "      <th>tag</th>\n",
              "    </tr>\n",
              "  </thead>\n",
              "  <tbody>\n",
              "    <tr>\n",
              "      <th>0</th>\n",
              "      <td>1</td>\n",
              "      <td>Indonesia</td>\n",
              "      <td>B-GPE</td>\n",
              "    </tr>\n",
              "    <tr>\n",
              "      <th>1</th>\n",
              "      <td>1</td>\n",
              "      <td>mengekspor</td>\n",
              "      <td>O</td>\n",
              "    </tr>\n",
              "    <tr>\n",
              "      <th>2</th>\n",
              "      <td>1</td>\n",
              "      <td>produk</td>\n",
              "      <td>O</td>\n",
              "    </tr>\n",
              "    <tr>\n",
              "      <th>3</th>\n",
              "      <td>1</td>\n",
              "      <td>industri</td>\n",
              "      <td>O</td>\n",
              "    </tr>\n",
              "    <tr>\n",
              "      <th>4</th>\n",
              "      <td>1</td>\n",
              "      <td>skala</td>\n",
              "      <td>O</td>\n",
              "    </tr>\n",
              "  </tbody>\n",
              "</table>\n",
              "</div>"
            ],
            "text/plain": [
              "   sentence_num       token    tag\n",
              "0             1   Indonesia  B-GPE\n",
              "1             1  mengekspor      O\n",
              "2             1      produk      O\n",
              "3             1    industri      O\n",
              "4             1       skala      O"
            ]
          },
          "metadata": {
            "tags": []
          },
          "execution_count": 11
        }
      ]
    },
    {
      "cell_type": "markdown",
      "metadata": {
        "id": "P4wB9luGhRlt"
      },
      "source": [
        "List all non-O classes"
      ]
    },
    {
      "cell_type": "code",
      "metadata": {
        "id": "ypsQmsCRjbcr"
      },
      "source": [
        "classes = data.tag.unique().tolist()\n",
        "classes.remove('O')\n",
        "classes.sort()"
      ],
      "execution_count": null,
      "outputs": []
    },
    {
      "cell_type": "markdown",
      "metadata": {
        "id": "PRDWKhzdhqa8"
      },
      "source": [
        "Show the NER tag distribution in the dataset"
      ]
    },
    {
      "cell_type": "code",
      "metadata": {
        "colab": {
          "base_uri": "https://localhost:8080/",
          "height": 573
        },
        "id": "ku3k7DGrsCZQ",
        "outputId": "c757cd72-b6ee-4c3b-9653-1197ce3efdf4"
      },
      "source": [
        "plt.figure(figsize=(14, 4))\n",
        "plt.title('B Tag Distribution')\n",
        "ax = sns.countplot(x='tag', data=data[(data['tag'] != ' ') & (data['tag'] != 'O') & (data['tag'].str.startswith('B'))], order=[clas for clas in classes if clas[0] == 'B'])\n",
        "\n",
        "for p in ax.patches:\n",
        "  x=p.get_bbox().get_points()[:,0]\n",
        "  y=p.get_bbox().get_points()[1,1]\n",
        "  ax.annotate('{:d}'.format(p.get_height()), (x.mean(), y), ha='center', va='bottom')\n",
        "\n",
        "plt.show()\n",
        "\n",
        "plt.figure(figsize=(14, 4))\n",
        "plt.title('I Tag Distribution')\n",
        "ax = sns.countplot(x='tag', data=data[(data['tag'] != ' ') & (data['tag'] != 'O') & (data['tag'].str.startswith('I'))], order=[clas for clas in classes if clas[0] == 'I'])\n",
        "\n",
        "for p in ax.patches:\n",
        "  x=p.get_bbox().get_points()[:,0]\n",
        "  y=p.get_bbox().get_points()[1,1]\n",
        "  ax.annotate('{:d}'.format(p.get_height()), (x.mean(), y), ha='center', va='bottom')\n",
        "\n",
        "plt.show()"
      ],
      "execution_count": null,
      "outputs": [
        {
          "output_type": "display_data",
          "data": {
            "image/png": "[encoded data removed]",
            "text/plain": [
              "<Figure size 1008x288 with 1 Axes>"
            ]
          },
          "metadata": {
            "tags": [],
            "needs_background": "light"
          }
        },
        {
          "output_type": "display_data",
          "data": {
            "image/png": "[encoded data removed]",
            "text/plain": [
              "<Figure size 1008x288 with 1 Axes>"
            ]
          },
          "metadata": {
            "tags": [],
            "needs_background": "light"
          }
        }
      ]
    },
    {
      "cell_type": "markdown",
      "metadata": {
        "id": "mRvXSK-rimUI"
      },
      "source": [
        "Split the dataset into train and test dataset, then train the CRF model"
      ]
    },
    {
      "cell_type": "code",
      "metadata": {
        "colab": {
          "base_uri": "https://localhost:8080/"
        },
        "id": "0zcu9qwQjiLL",
        "outputId": "be25b9f3-bce7-4da6-a391-70aa2e34b752"
      },
      "source": [
        "NUMERIC = ('nol', 'satu', 'dua', 'tiga', 'empat',\n",
        "           'lima', 'enam', 'tujuh', 'delapan', 'sembilan')\n",
        "\n",
        "pos_tagger = POSTagger()\n",
        "\n",
        "def dataset_to_seq(dataset):\n",
        "  tokens = dataset['token'].values.tolist()\n",
        "  postags = pos_tagger.tag(tokens)\n",
        "  nertags = dataset['tag'].values.tolist()\n",
        "  return [(tok, p, tag) for tok, p, tag in zip(tokens, postags, nertags)]\n",
        "\n",
        "def word2features(sent, i):\n",
        "    token = sent[i][0]\n",
        "    postag = sent[i][1]\n",
        "\n",
        "    features = {\n",
        "        'token.lower()': token.lower(),\n",
        "        'token.istitle()': token.istitle(),\n",
        "        'token.isupper()': token.isupper(),\n",
        "        'token.postag()': postag,\n",
        "        'token.isnumeric()': token.replace('.', '').replace('-', '').isdigit() or (token.lower() in NUMERIC),\n",
        "        'token.is4digit()': len(token) == 4 and sum([1 if char.isdigit() else 0 for char in token]) == 4\n",
        "    }\n",
        "    if i > 0:\n",
        "        token1 = sent[i-1][0]\n",
        "        postag1 = sent[i-1][1]\n",
        "        features.update({\n",
        "            '-1:token.lower()': token1.lower(),\n",
        "            '-1:token.istitle()': token1.istitle(),\n",
        "            '-1:token.isupper()': token1.isupper(),\n",
        "            '-1:token.postag()': postag1,\n",
        "        })\n",
        "    else:\n",
        "        features['BOS'] = True\n",
        "    if i < len(sent)-1:\n",
        "        token1 = sent[i+1][0]\n",
        "        postag1 = sent[i+1][1]\n",
        "        features.update({\n",
        "            '+1:token.lower()': token1.lower(),\n",
        "            '+1:token.istitle()': token1.istitle(),\n",
        "            '+1:token.isupper()': token1.isupper(),\n",
        "            '+1:token.postag()': postag1,\n",
        "        })\n",
        "    else:\n",
        "        features['EOS'] = True\n",
        "\n",
        "    return features\n",
        "\n",
        "def sent2features(sent):\n",
        "    return [word2features(sent, i) for i in range(len(sent))]\n",
        "\n",
        "def sent2labels(sent):\n",
        "    return [label for token, postag, label in sent]\n",
        "\n",
        "def sent2tokens(sent):\n",
        "    return [token for token, postag, label in sent]\n",
        "\n",
        "def dataset_to_features_labels_seq(dataset):\n",
        "  sentences = list(dataset.groupby('sentence_num').apply(dataset_to_seq))\n",
        "  X = [sent2features(s) for s in sentences]\n",
        "  y = [sent2labels(s) for s in sentences]\n",
        "  return X, y\n",
        "\n",
        "X, y = dataset_to_features_labels_seq(data)\n",
        "X_train, X_valid, y_train, y_valid = train_test_split(X, y, test_size=0.2, random_state=10)\n",
        "\n",
        "crf = sklearn_crfsuite.CRF(\n",
        "    algorithm='lbfgs',\n",
        "    c1=0.1,\n",
        "    c2=0.1,\n",
        "    max_iterations=100,\n",
        "    all_possible_transitions=True\n",
        ")\n",
        "crf.fit(X_train, y_train)\n",
        "y_pred = crf.predict(X_valid)\n",
        "print(metrics.flat_classification_report(y_valid, y_pred, labels=classes, digits=4))\n",
        "print(entity_classification_report(y_valid, y_pred, digits=4))"
      ],
      "execution_count": null,
      "outputs": [
        {
          "output_type": "stream",
          "text": [
            "              precision    recall  f1-score   support\n",
            "\n",
            "       B-CRD     0.8472    0.9016    0.8736       732\n",
            "       B-DAT     0.9691    0.9744    0.9717       741\n",
            "       B-EVT     0.8154    0.6883    0.7465       308\n",
            "       B-FAC     0.7917    0.6129    0.6909        93\n",
            "       B-GPE     0.8885    0.9016    0.8950      1290\n",
            "       B-LAN     1.0000    0.5000    0.6667         2\n",
            "       B-LAW     0.7857    0.5000    0.6111        66\n",
            "       B-LOC     0.8209    0.7333    0.7746       600\n",
            "       B-MON     0.9518    0.9405    0.9461       252\n",
            "       B-NOR     0.8502    0.8351    0.8426       843\n",
            "       B-ORD     0.9057    0.8348    0.8688       115\n",
            "       B-ORG     0.8090    0.7483    0.7774       866\n",
            "       B-PER     0.8977    0.8888    0.8932      1412\n",
            "       B-PRC     0.9714    0.9784    0.9749       139\n",
            "       B-PRD     0.7861    0.6785    0.7283       818\n",
            "       B-QTY     0.9004    0.7483    0.8174       302\n",
            "       B-REG     0.8889    0.6234    0.7328        77\n",
            "       B-TIM     0.9859    0.9790    0.9825       143\n",
            "       B-WOA     0.8636    0.5758    0.6909        33\n",
            "       I-CRD     0.8825    0.8777    0.8801       368\n",
            "       I-DAT     0.9785    0.9884    0.9834      1976\n",
            "       I-EVT     0.8221    0.7071    0.7603       536\n",
            "       I-FAC     0.6952    0.7429    0.7182       175\n",
            "       I-GPE     0.9165    0.8323    0.8724       501\n",
            "       I-LAN     1.0000    0.5000    0.6667         2\n",
            "       I-LAW     0.7902    0.6654    0.7224       266\n",
            "       I-LOC     0.7790    0.8333    0.8052       960\n",
            "       I-MON     0.9799    0.9621    0.9709       659\n",
            "       I-NOR     0.8323    0.8493    0.8407      1274\n",
            "       I-ORD     0.2500    0.6667    0.3636         3\n",
            "       I-ORG     0.7302    0.7394    0.7348      1036\n",
            "       I-PER     0.8881    0.9115    0.8996       949\n",
            "       I-PRC     0.9933    0.9900    0.9917       301\n",
            "       I-PRD     0.6667    0.6743    0.6704       789\n",
            "       I-QTY     0.8981    0.8229    0.8588       525\n",
            "       I-REG     0.8286    0.6591    0.7342        44\n",
            "       I-TIM     0.9976    0.9881    0.9928       420\n",
            "       I-WOA     0.5439    0.6889    0.6078        45\n",
            "\n",
            "   micro avg     0.8645    0.8452    0.8547     19661\n",
            "   macro avg     0.8474    0.7827    0.8042     19661\n",
            "weighted avg     0.8644    0.8452    0.8535     19661\n",
            "\n",
            "              precision    recall  f1-score   support\n",
            "\n",
            "         CRD     0.8280    0.8811    0.8537       732\n",
            "         DAT     0.9410    0.9323    0.9366       753\n",
            "         EVT     0.7538    0.6242    0.6829       314\n",
            "         FAC     0.7222    0.5591    0.6303        93\n",
            "         GPE     0.8869    0.8972    0.8920      1294\n",
            "         LAN     1.0000    0.5000    0.6667         2\n",
            "         LAW     0.6136    0.4091    0.4909        66\n",
            "         LOC     0.7593    0.6772    0.7159       601\n",
            "         MON     0.9317    0.9170    0.9243       253\n",
            "         NOR     0.7971    0.7811    0.7890       845\n",
            "         ORD     0.8962    0.8261    0.8597       115\n",
            "         ORG     0.7628    0.7023    0.7313       870\n",
            "         PER     0.8877    0.8770    0.8823      1415\n",
            "         PRC     0.9714    0.9784    0.9749       139\n",
            "         PRD     0.7210    0.6200    0.6667       821\n",
            "         QTY     0.8645    0.7138    0.7820       304\n",
            "         REG     0.8333    0.5844    0.6870        77\n",
            "         TIM     0.9718    0.9650    0.9684       143\n",
            "         WOA     0.6957    0.4848    0.5714        33\n",
            "\n",
            "   micro avg     0.8397    0.7994    0.8191      8870\n",
            "   macro avg     0.8336    0.7332    0.7740      8870\n",
            "weighted avg     0.8357    0.7994    0.8158      8870\n",
            "\n"
          ],
          "name": "stdout"
        }
      ]
    },
    {
      "cell_type": "markdown",
      "metadata": {
        "id": "YgdMiyBli7-r"
      },
      "source": [
        "Print only 4 numerical tags result"
      ]
    },
    {
      "cell_type": "code",
      "metadata": {
        "colab": {
          "base_uri": "https://localhost:8080/"
        },
        "id": "YgBRVatLX5bv",
        "outputId": "7c5800a2-cd75-4732-9dbb-4796953ccd84"
      },
      "source": [
        "NUM_LABELS = {'CRD', 'QTY', 'PRC', 'MON'}\n",
        "\n",
        "y_valid_filter_num = [[label if label[2:] in NUM_LABELS else 'O' for label in sent_label] for sent_label in y_valid]\n",
        "y_pred_filter_num = [[label if label[2:] in NUM_LABELS else 'O' for label in sent_label] for sent_label in y_pred]\n",
        "print(metrics.flat_classification_report(y_valid_filter_num, y_pred_filter_num, digits=4))\n",
        "print(entity_classification_report(y_valid_filter_num, y_pred_filter_num, digits=4))"
      ],
      "execution_count": null,
      "outputs": [
        {
          "output_type": "stream",
          "text": [
            "              precision    recall  f1-score   support\n",
            "\n",
            "       B-CRD     0.8472    0.9016    0.8736       732\n",
            "       B-MON     0.9518    0.9405    0.9461       252\n",
            "       B-PRC     0.9714    0.9784    0.9749       139\n",
            "       B-QTY     0.9004    0.7483    0.8174       302\n",
            "       I-CRD     0.8825    0.8777    0.8801       368\n",
            "       I-MON     0.9799    0.9621    0.9709       659\n",
            "       I-PRC     0.9933    0.9900    0.9917       301\n",
            "       I-QTY     0.8981    0.8229    0.8588       525\n",
            "           O     0.9971    0.9983    0.9977     53917\n",
            "\n",
            "    accuracy                         0.9926     57195\n",
            "   macro avg     0.9358    0.9133    0.9235     57195\n",
            "weighted avg     0.9925    0.9926    0.9925     57195\n",
            "\n",
            "              precision    recall  f1-score   support\n",
            "\n",
            "         CRD     0.8280    0.8811    0.8537       732\n",
            "         MON     0.9317    0.9170    0.9243       253\n",
            "         PRC     0.9714    0.9784    0.9749       139\n",
            "         QTY     0.8645    0.7138    0.7820       304\n",
            "\n",
            "   micro avg     0.8668    0.8613    0.8641      1428\n",
            "   macro avg     0.8989    0.8726    0.8837      1428\n",
            "weighted avg     0.8681    0.8613    0.8628      1428\n",
            "\n"
          ],
          "name": "stdout"
        }
      ]
    },
    {
      "cell_type": "markdown",
      "metadata": {
        "id": "UlW2szuAi3pS"
      },
      "source": [
        "Show what the CRF model have learnt while training"
      ]
    },
    {
      "cell_type": "code",
      "metadata": {
        "colab": {
          "base_uri": "https://localhost:8080/"
        },
        "id": "cIRBNJ6zZu3X",
        "outputId": "90ab704e-01a8-4b0b-f35d-8f5341b78b93"
      },
      "source": [
        "def print_state_features(state_features):\n",
        "    for (attr, label), weight in state_features:\n",
        "        print(\"%0.6f %-8s %s\" % (weight, label, attr))\n",
        "\n",
        "print(\"Top positive:\")\n",
        "print_state_features(Counter(crf.state_features_).most_common(30))\n",
        "print(\"\\nTop negative:\")\n",
        "print_state_features(Counter(crf.state_features_).most_common()[-30:])"
      ],
      "execution_count": null,
      "outputs": [
        {
          "output_type": "stream",
          "text": [
            "Top positive:\n",
            "9.294177 B-ORG    token.lower():detiknews\n",
            "9.008235 B-MON    token.lower():lira\n",
            "8.219460 B-EVT    token.lower():pilkada\n",
            "8.063884 B-ORG    token.lower():detikcom\n",
            "8.027147 B-MON    token.lower():rupiah\n",
            "7.803718 B-REG    token.lower():muslim\n",
            "7.691315 B-ORG    token.lower():genpi\n",
            "7.654828 I-PRC    token.lower():persen\n",
            "7.632891 B-QTY    token.lower():setahun\n",
            "7.174608 B-DAT    token.lower():senin\n",
            "7.038804 B-PRD    token.lower():iphone\n",
            "7.016113 B-MON    token.lower():dolar\n",
            "6.948667 B-PER    token.lower():jokowi\n",
            "6.924178 B-NOR    token.lower():gerindra\n",
            "6.904941 B-REG    token.lower():alhamdulillah\n",
            "6.757737 B-NOR    token.lower():nasdem\n",
            "6.668244 B-LOC    token.lower():simpanglima\n",
            "6.616801 B-NOR    token.lower():golkar\n",
            "6.585192 B-NOR    token.lower():demokrat\n",
            "6.557220 B-PRD    token.lower():biodiesel\n",
            "6.543811 B-LAW    token.lower():apbn\n",
            "6.535116 B-REG    token.lower():islam\n",
            "6.426624 B-NOR    token.lower():polisi\n",
            "6.420687 B-TIM    -1:token.lower():jam\n",
            "6.383229 B-NOR    token.lower():polri\n",
            "6.317986 B-DAT    token.lower():minggu\n",
            "6.313374 B-DAT    token.lower():rabu\n",
            "6.295133 B-ORG    token.lower():airasia\n",
            "6.272350 B-PER    token.lower():agi\n",
            "6.253514 B-PRD    token.lower():ambulans\n",
            "\n",
            "Top negative:\n",
            "-2.423544 O        -1:token.lower():regional\n",
            "-2.437110 O        -1:token.lower():andri\n",
            "-2.449567 O        +1:token.lower():bonek\n",
            "-2.451009 B-LOC    token.isnumeric()\n",
            "-2.474344 I-GPE    +1:token.postag():CD\n",
            "-2.477661 O        token.lower():motogp\n",
            "-2.479636 O        -1:token.lower():alamsyah\n",
            "-2.516658 B-CRD    +1:token.lower():tahun\n",
            "-2.576440 O        +1:token.lower():dibayarkan\n",
            "-2.600289 O        token.lower():direhabilitasi\n",
            "-2.626761 B-PRD    token.isnumeric()\n",
            "-2.633854 B-GPE    token.isnumeric()\n",
            "-2.663553 O        +1:token.lower():dinobatkan\n",
            "-2.668496 B-PER    token.isnumeric()\n",
            "-2.713077 O        token.lower():pilpres\n",
            "-2.779116 O        token.isupper()\n",
            "-2.813068 O        token.lower():musala\n",
            "-2.834060 O        -1:token.lower():persero\n",
            "-2.873103 I-PRD    token.lower():,\n",
            "-2.884569 O        token.lower():nuklir\n",
            "-2.896114 O        token.lower():kepolisian\n",
            "-2.908356 O        token.lower():truk\n",
            "-2.920658 I-PRC    token.lower():15\n",
            "-2.929727 O        -1:token.lower():.\n",
            "-2.952721 O        +1:token.lower():s\n",
            "-3.072581 O        token.lower():ketiga\n",
            "-3.147859 O        token.lower():berdua\n",
            "-3.167570 O        token.lower():kedua\n",
            "-3.361879 O        +1:token.lower():pekanbaru\n",
            "-5.371159 O        token.isnumeric()\n"
          ],
          "name": "stdout"
        }
      ]
    },
    {
      "cell_type": "markdown",
      "metadata": {
        "id": "aAYEK1AQkOme"
      },
      "source": [
        "Save the model into file `model_ner`"
      ]
    },
    {
      "cell_type": "code",
      "metadata": {
        "id": "oQ0n-md3vdfv"
      },
      "source": [
        "with open('model_ner', 'wb') as model_out:\n",
        "  pickle.dump(crf, model_out)"
      ],
      "execution_count": null,
      "outputs": []
    },
    {
      "cell_type": "markdown",
      "metadata": {
        "id": "-Hqr-FUbjde7"
      },
      "source": [
        "Train with only 4 numerical tags"
      ]
    },
    {
      "cell_type": "code",
      "metadata": {
        "colab": {
          "base_uri": "https://localhost:8080/"
        },
        "id": "jk5UY2g4eVFu",
        "outputId": "b86f5828-3873-46f9-8ada-da5d4efe33d8"
      },
      "source": [
        "y_train_num = [[label if label[2:] in NUM_LABELS else 'O' for label in sent] for sent in y_train]\n",
        "y_valid_num = [[label if label[2:] in NUM_LABELS else 'O' for label in sent] for sent in y_valid]\n",
        "\n",
        "crf = sklearn_crfsuite.CRF(\n",
        "    algorithm='lbfgs',\n",
        "    c1=0.1,\n",
        "    c2=0.1,\n",
        "    max_iterations=100,\n",
        "    all_possible_transitions=True\n",
        ")\n",
        "crf.fit(X_train, y_train_num)\n",
        "y_pred_num = crf.predict(X_valid)\n",
        "print(metrics.flat_classification_report(y_valid_num, y_pred_num, digits=4))\n",
        "print(entity_classification_report(y_valid_num, y_pred_num, digits=4))"
      ],
      "execution_count": null,
      "outputs": [
        {
          "output_type": "stream",
          "text": [
            "              precision    recall  f1-score   support\n",
            "\n",
            "       B-CRD     0.8453    0.8811    0.8629       732\n",
            "       B-MON     0.9587    0.9206    0.9393       252\n",
            "       B-PRC     0.9645    0.9784    0.9714       139\n",
            "       B-QTY     0.9102    0.7715    0.8351       302\n",
            "       I-CRD     0.8677    0.8913    0.8794       368\n",
            "       I-MON     0.9811    0.9439    0.9621       659\n",
            "       I-PRC     0.9868    0.9900    0.9884       301\n",
            "       I-QTY     0.8704    0.8190    0.8440       525\n",
            "           O     0.9966    0.9978    0.9972     53917\n",
            "\n",
            "    accuracy                         0.9918     57195\n",
            "   macro avg     0.9313    0.9104    0.9200     57195\n",
            "weighted avg     0.9917    0.9918    0.9917     57195\n",
            "\n",
            "              precision    recall  f1-score   support\n",
            "\n",
            "         CRD     0.8283    0.8634    0.8455       732\n",
            "         MON     0.9339    0.8933    0.9131       253\n",
            "         PRC     0.9645    0.9784    0.9714       139\n",
            "         QTY     0.8750    0.7368    0.8000       304\n",
            "\n",
            "   micro avg     0.8688    0.8529    0.8608      1428\n",
            "   macro avg     0.9004    0.8680    0.8825      1428\n",
            "weighted avg     0.8702    0.8529    0.8600      1428\n",
            "\n"
          ],
          "name": "stdout"
        }
      ]
    },
    {
      "cell_type": "markdown",
      "metadata": {
        "id": "Vc66f8MCj_1Z"
      },
      "source": [
        "Show what the CRF model have learnt while training"
      ]
    },
    {
      "cell_type": "code",
      "metadata": {
        "colab": {
          "base_uri": "https://localhost:8080/"
        },
        "id": "2ys295b8eYpN",
        "outputId": "a9348312-74cf-4d10-8924-7295c3a21a8f"
      },
      "source": [
        "def print_state_features(state_features):\n",
        "    for (attr, label), weight in state_features:\n",
        "        print(\"%0.6f %-8s %s\" % (weight, label, attr))\n",
        "\n",
        "print(\"Top positive:\")\n",
        "print_state_features(Counter(crf.state_features_).most_common(30))\n",
        "print(\"\\nTop negative:\")\n",
        "print_state_features(Counter(crf.state_features_).most_common()[-30:])"
      ],
      "execution_count": null,
      "outputs": [
        {
          "output_type": "stream",
          "text": [
            "Top positive:\n",
            "8.726435 B-QTY    token.lower():setahun\n",
            "8.046166 I-PRC    token.lower():persen\n",
            "7.428893 B-MON    token.lower():usd\n",
            "6.733492 B-MON    token.lower():yen\n",
            "6.627586 O        -1:token.lower():persen\n",
            "6.513677 O        EOS\n",
            "6.099688 O        +1:token.lower():wib\n",
            "6.065007 B-MON    token.lower():lira\n",
            "5.740369 B-MON    token.lower():rupiah\n",
            "5.737488 O        BOS\n",
            "5.588437 B-MON    token.lower():euro\n",
            "5.099996 O        -1:token.lower():pukul\n",
            "4.889654 B-MON    token.lower():ringgit\n",
            "4.801661 B-QTY    token.lower():seminggu\n",
            "4.657081 B-MON    token.lower():dolar\n",
            "4.549941 I-CRD    token.lower():faktur\n",
            "4.531363 O        +1:token.lower():juni\n",
            "4.477735 O        +1:token.lower():juli\n",
            "4.386646 B-CRD    token.lower():kedelapa\n",
            "4.376597 B-CRD    token.lower():berdua\n",
            "4.339932 O        +1:token.lower():/\n",
            "4.225045 B-QTY    token.lower():sebulan\n",
            "4.151928 I-CRD    -1:token.lower():sekitar\n",
            "3.998186 O        -1:token.lower():nusa\n",
            "3.954118 I-CRD    token.lower():juta\n",
            "3.886636 B-QTY    token.lower():semenit\n",
            "3.863861 I-MON    -1:token.lower():.\n",
            "3.851354 O        +1:token.lower():mei\n",
            "3.831260 I-QTY    token.lower():persegi\n",
            "3.824295 O        -1:token.lower():jam\n",
            "\n",
            "Top negative:\n",
            "-2.598626 O        token.lower():iii\n",
            "-2.626103 O        token.lower():seminggu\n",
            "-2.677736 O        token.lower():seribu\n",
            "-2.721519 O        token.lower():sejuta\n",
            "-2.724516 O        token.lower():juta\n",
            "-2.738948 O        +1:token.lower():nyoba\n",
            "-2.750236 O        token.lower():one\n",
            "-2.761359 O        token.lower():jam\n",
            "-2.811353 O        token.lower():kedua\n",
            "-2.819098 O        -1:token.lower():penyelundupan\n",
            "-2.834726 O        +1:token.lower():minus\n",
            "-2.901973 O        token.lower():sehari\n",
            "-3.001939 O        token.lower():kelima\n",
            "-3.068716 O        token.lower():keempat\n",
            "-3.141492 O        token.lower():kurang\n",
            "-3.189752 B-CRD    -1:token.lower():/\n",
            "-3.302926 O        token.lower():ketiga\n",
            "-3.383940 I-PRC    token.lower():15\n",
            "-3.436564 O        token.lower():kira\n",
            "-3.654313 O        token.lower():dollar\n",
            "-3.666405 O        token.lower():sekira\n",
            "-3.693573 O        +1:token.lower():bonek\n",
            "-3.724133 O        token.lower():sebulan\n",
            "-3.736291 O        token.lower():hampir\n",
            "-4.389582 O        token.lower():berdua\n",
            "-4.721727 O        token.lower():dolar\n",
            "-5.112890 O        token.lower():sekitar\n",
            "-5.264337 O        token.lower():lira\n",
            "-5.320656 O        token.isnumeric()\n",
            "-5.572047 O        token.lower():rupiah\n"
          ],
          "name": "stdout"
        }
      ]
    },
    {
      "cell_type": "markdown",
      "metadata": {
        "id": "3-7CMEoRqwf4"
      },
      "source": [
        "Rule-based baseline model"
      ]
    },
    {
      "cell_type": "code",
      "metadata": {
        "id": "OpNTW9ZMvaZh",
        "colab": {
          "base_uri": "https://localhost:8080/"
        },
        "outputId": "cc2cb5bc-2524-404b-c0e4-fe143fa024d9"
      },
      "source": [
        "postag_key = 'token.postag()'\n",
        "token_lower_key = 'token.lower()'\n",
        "\n",
        "def idx_next(X, idx):\n",
        "  result = idx+1\n",
        "  while result+1 < len(X) and \\\n",
        "      (X[result][postag_key] == 'CD' or X[result][postag_key] == 'Z'):\n",
        "    result += 1\n",
        "  return result\n",
        "\n",
        "def change_if_num_modifier(X, y, idx):\n",
        "  modifier_list = [\n",
        "                   ['sekitar'],\n",
        "                   ['kurang', 'lebih'],\n",
        "                   ['rata-rata'],\n",
        "                   ['rata', '-', 'rata'],\n",
        "                   ['lebih', 'dari'],\n",
        "                   ['kurang', 'dari'],\n",
        "                   ['di', 'atas'],\n",
        "                   ['di', 'bawah']\n",
        "  ]\n",
        "  for modifier in modifier_list:\n",
        "    is_match = True\n",
        "    for i, modifier_token in enumerate(modifier):\n",
        "      if idx + i >= len(X) or X[idx + i][token_lower_key] != modifier_token:\n",
        "        is_match = False\n",
        "        break\n",
        "\n",
        "    if is_match and idx + len(modifier) < len(X) and y[idx + len(modifier)] != 'O':\n",
        "      category = y[idx + len(modifier)][2:]\n",
        "      y[idx] = 'B-' + category\n",
        "      for i in range(1, len(modifier) + 1):\n",
        "        y[idx + i] = 'I-' + category\n",
        "\n",
        "def predict(X_seqs):\n",
        "  result = []\n",
        "  for X in X_seqs:\n",
        "    y = []\n",
        "    idx = 0\n",
        "    while idx < len(X):\n",
        "      next = idx_next(X, idx)\n",
        "      if idx == len(X) - 1:\n",
        "        y.append('O')\n",
        "        idx += 1\n",
        "      elif X[idx][postag_key] == 'CD' and \\\n",
        "          (X[next][postag_key] == 'NN' or X[next][postag_key] == 'NNP'):\n",
        "        y.append('B-CRD')\n",
        "        for i in range(idx+1, next):\n",
        "          y.append('I-CRD')\n",
        "        idx = next\n",
        "      elif X[idx][postag_key] == 'SYM' and X[idx+1][postag_key] == 'CD':\n",
        "        y.append('B-MON')\n",
        "        for i in range(idx+1, next):\n",
        "          y.append('I-MON')\n",
        "        idx = next\n",
        "      elif X[idx][postag_key] == 'CD' and \\\n",
        "          (X[next-1][token_lower_key] == 'persen' or X[next][token_lower_key] == '%'):\n",
        "        y.append('B-PRC')\n",
        "        for i in range(idx+1, next):\n",
        "          y.append('I-PRC')\n",
        "        idx = next\n",
        "        if X[next][token_lower_key] == '%':\n",
        "          y.append('I-PRC')\n",
        "          idx = next+1\n",
        "      elif X[idx][postag_key] == 'CD' and X[next][postag_key] == 'NND':\n",
        "        y.append('B-QTY')\n",
        "        for i in range(idx+1, next):\n",
        "          y.append('I-QTY')\n",
        "        y.append('I-QTY')\n",
        "        idx = next+1\n",
        "      else:\n",
        "        y.append('O')\n",
        "        idx += 1\n",
        "    \n",
        "    for i in range(len(X)):\n",
        "      change_if_num_modifier(X, y, i)\n",
        "\n",
        "    result.append(y)\n",
        "  \n",
        "  return result\n",
        "\n",
        "y_pred_num = predict(X_valid)\n",
        "\n",
        "print(metrics.flat_classification_report(y_valid_num, y_pred_num, digits=4))\n",
        "print(entity_classification_report(y_valid_num, y_pred_num, digits=4))"
      ],
      "execution_count": null,
      "outputs": [
        {
          "output_type": "stream",
          "text": [
            "              precision    recall  f1-score   support\n",
            "\n",
            "       B-CRD     0.3139    0.6475    0.4228       732\n",
            "       B-MON     0.9070    0.6190    0.7358       252\n",
            "       B-PRC     0.9369    0.7482    0.8320       139\n",
            "       B-QTY     0.6912    0.3113    0.4292       302\n",
            "       I-CRD     0.1960    0.7147    0.3076       368\n",
            "       I-MON     0.9351    0.6995    0.8003       659\n",
            "       I-PRC     0.9802    0.8239    0.8953       301\n",
            "       I-QTY     0.7831    0.3714    0.5039       525\n",
            "           O     0.9845    0.9664    0.9753     53917\n",
            "\n",
            "    accuracy                         0.9459     57195\n",
            "   macro avg     0.7475    0.6558    0.6558     57195\n",
            "weighted avg     0.9664    0.9459    0.9529     57195\n",
            "\n",
            "              precision    recall  f1-score   support\n",
            "\n",
            "         CRD     0.3000    0.6189    0.4041       732\n",
            "         MON     0.6628    0.4506    0.5365       253\n",
            "         PRC     0.9369    0.7482    0.8320       139\n",
            "         QTY     0.5956    0.2664    0.3682       304\n",
            "\n",
            "   micro avg     0.3898    0.5266    0.4480      1428\n",
            "   macro avg     0.6238    0.5210    0.5352      1428\n",
            "weighted avg     0.4892    0.5266    0.4616      1428\n",
            "\n"
          ],
          "name": "stdout"
        }
      ]
    },
    {
      "cell_type": "markdown",
      "metadata": {
        "id": "IzEDfRKIkaLI"
      },
      "source": [
        "## Try The Model"
      ]
    },
    {
      "cell_type": "markdown",
      "metadata": {
        "id": "UpnUXXfpkpqp"
      },
      "source": [
        "Create the `NERTagger` class, which we will use for NER tagging"
      ]
    },
    {
      "cell_type": "code",
      "metadata": {
        "id": "SzgS5uQFQj8D"
      },
      "source": [
        "import pickle\n",
        "import sklearn_crfsuite\n",
        "\n",
        "class NERTagger():\n",
        "  NUMERIC = ('nol', 'satu', 'dua', 'tiga', 'empat',\n",
        "           'lima', 'enam', 'tujuh', 'delapan', 'sembilan')\n",
        "\n",
        "  def __init__(self, pos_tagger):\n",
        "    with open('model_ner', 'rb') as model:\n",
        "      self.model = pickle.load(model)\n",
        "    self.pos_tagger = pos_tagger\n",
        "\n",
        "  def tag(self, sent):\n",
        "    self.pos_tags = self.pos_tagger.tag(sent)\n",
        "    self.sent_tokenized = self.pos_tagger.sent_tokenized\n",
        "    feature_list = self.sent2features([(word, pos_tag) for word, pos_tag in zip(self.sent_tokenized, self.pos_tags)])\n",
        "    predicted_tags = self.model.predict_single(feature_list)\n",
        "    predicted_num_tags = [tag if tag[2:] in NUM_LABELS else 'O' for tag in predicted_tags]\n",
        "    return predicted_num_tags\n",
        "\n",
        "  def word2features(self, sent, i):\n",
        "    token = sent[i][0]\n",
        "    postag = sent[i][1]\n",
        "\n",
        "    features = {\n",
        "        'token.lower()': token.lower(),\n",
        "        'token.istitle()': token.istitle(),\n",
        "        'token.isupper()': token.isupper(),\n",
        "        'token.postag()': postag,\n",
        "        'token.isnumeric()': token.replace('.', '').replace('-', '').isdigit() or (token.lower() in self.NUMERIC),\n",
        "        'token.is4digit()': len(token) == 4 and sum([1 if char.isdigit() else 0 for char in token]) == 4\n",
        "    }\n",
        "    if i > 0:\n",
        "        token1 = sent[i-1][0]\n",
        "        postag1 = sent[i-1][1]\n",
        "        features.update({\n",
        "            '-1:token.lower()': token1.lower(),\n",
        "            '-1:token.istitle()': token1.istitle(),\n",
        "            '-1:token.isupper()': token1.isupper(),\n",
        "            '-1:token.postag()': postag1,\n",
        "        })\n",
        "    else:\n",
        "        features['BOS'] = True\n",
        "    if i < len(sent)-1:\n",
        "        token1 = sent[i+1][0]\n",
        "        postag1 = sent[i+1][1]\n",
        "        features.update({\n",
        "            '+1:token.lower()': token1.lower(),\n",
        "            '+1:token.istitle()': token1.istitle(),\n",
        "            '+1:token.isupper()': token1.isupper(),\n",
        "            '+1:token.postag()': postag1,\n",
        "        })\n",
        "    else:\n",
        "        features['EOS'] = True\n",
        "\n",
        "    return features\n",
        "\n",
        "  def sent2features(self, sent):\n",
        "      return [self.word2features(sent, i) for i in range(len(sent))]"
      ],
      "execution_count": null,
      "outputs": []
    },
    {
      "cell_type": "markdown",
      "metadata": {
        "id": "2LQOnsbplZWU"
      },
      "source": [
        "Try the model"
      ]
    },
    {
      "cell_type": "code",
      "metadata": {
        "colab": {
          "base_uri": "https://localhost:8080/"
        },
        "id": "6t99gkyd_gux",
        "outputId": "b8b00ea3-baba-4b59-f810-002595788f4d"
      },
      "source": [
        "print(NERTagger(pos_tagger).tag(\"Tsunami Samudra Hindia merenggut sekitar 170.000 korban jiwa di Indonesia.\"))\n",
        "print(NERTagger(pos_tagger).tag([\"Tsunami\", \"Samudra\", \"Hindia\", \"merenggut\", \"sekitar\", \"170.000\", \"korban\", \"jiwa\", \"di\", \"Indonesia\", \".\"]))"
      ],
      "execution_count": null,
      "outputs": [
        {
          "output_type": "stream",
          "text": [
            "['O', 'O', 'O', 'O', 'B-CRD', 'I-CRD', 'O', 'O', 'O', 'O', 'O']\n",
            "['O', 'O', 'O', 'O', 'B-CRD', 'I-CRD', 'O', 'O', 'O', 'O', 'O']\n"
          ],
          "name": "stdout"
        }
      ]
    },
    {
      "cell_type": "markdown",
      "metadata": {
        "id": "imr_3b04PmWE"
      },
      "source": [
        "References:\n",
        "- https://towardsdatascience.com/named-entity-recognition-and-classification-with-scikit-learn-f05372f07ba2"
      ]
    }
  ]
}