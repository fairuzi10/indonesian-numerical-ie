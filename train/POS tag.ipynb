{
  "nbformat": 4,
  "nbformat_minor": 0,
  "metadata": {
    "colab": {
      "name": "Final TA-POS tag-CRF.ipynb",
      "provenance": [],
      "collapsed_sections": []
    },
    "kernelspec": {
      "display_name": "Python 3",
      "name": "python3"
    }
  },
  "cells": [
    {
      "cell_type": "markdown",
      "metadata": {
        "id": "c0vvEQQyGXWx"
      },
      "source": [
        "# Indonesian POS Tagging using CRF"
      ]
    },
    {
      "cell_type": "markdown",
      "metadata": {
        "id": "v5P2mNEkG0vj"
      },
      "source": [
        "Install the needed library"
      ]
    },
    {
      "cell_type": "code",
      "metadata": {
        "colab": {
          "base_uri": "https://localhost:8080/"
        },
        "id": "wxNx4HXr53xb",
        "outputId": "b7d62b63-41ad-4ebb-8a4b-09daea06b5ba"
      },
      "source": [
        "!pip install sklearn_crfsuite"
      ],
      "execution_count": 2,
      "outputs": [
        {
          "output_type": "stream",
          "text": [
            "Collecting sklearn_crfsuite\n",
            "  Downloading https://files.pythonhosted.org/packages/25/74/5b7befa513482e6dee1f3dd68171a6c9dfc14c0eaa00f885ffeba54fe9b0/sklearn_crfsuite-0.3.6-py2.py3-none-any.whl\n",
            "Requirement already satisfied: six in /usr/local/lib/python3.6/dist-packages (from sklearn_crfsuite) (1.15.0)\n",
            "Requirement already satisfied: tabulate in /usr/local/lib/python3.6/dist-packages (from sklearn_crfsuite) (0.8.7)\n",
            "Requirement already satisfied: tqdm>=2.0 in /usr/local/lib/python3.6/dist-packages (from sklearn_crfsuite) (4.41.1)\n",
            "Collecting python-crfsuite>=0.8.3\n",
            "\u001b[?25l  Downloading https://files.pythonhosted.org/packages/95/99/869dde6dbf3e0d07a013c8eebfb0a3d30776334e0097f8432b631a9a3a19/python_crfsuite-0.9.7-cp36-cp36m-manylinux1_x86_64.whl (743kB)\n",
            "\u001b[K     |████████████████████████████████| 747kB 4.3MB/s \n",
            "\u001b[?25hInstalling collected packages: python-crfsuite, sklearn-crfsuite\n",
            "Successfully installed python-crfsuite-0.9.7 sklearn-crfsuite-0.3.6\n"
          ],
          "name": "stdout"
        }
      ]
    },
    {
      "cell_type": "markdown",
      "metadata": {
        "id": "q1TRvjpGG_oK"
      },
      "source": [
        "Import used library"
      ]
    },
    {
      "cell_type": "code",
      "metadata": {
        "id": "UdBHJvee8iaP"
      },
      "source": [
        "import pandas as pd\n",
        "import numpy as np\n",
        "from sklearn.model_selection import train_test_split\n",
        "import sklearn_crfsuite\n",
        "from sklearn_crfsuite import metrics\n",
        "from collections import Counter\n",
        "import pickle\n",
        "import seaborn as sns\n",
        "import matplotlib.pyplot as plt"
      ],
      "execution_count": 3,
      "outputs": []
    },
    {
      "cell_type": "markdown",
      "metadata": {
        "id": "7J9dnQUXHH9d"
      },
      "source": [
        "Read the dataset. The dataset is from https://github.com/famrashel/idn-tagged-corpus but converted into CSV for easier processing"
      ]
    },
    {
      "cell_type": "code",
      "metadata": {
        "colab": {
          "base_uri": "https://localhost:8080/",
          "height": 204
        },
        "id": "nhW2lq4IjCjv",
        "outputId": "a47a35f0-9eb5-4168-a9e4-8f0640a1c92f"
      },
      "source": [
        "data = pd.read_csv('data/postag.csv', keep_default_na=False)\n",
        "data.head()"
      ],
      "execution_count": 4,
      "outputs": [
        {
          "output_type": "execute_result",
          "data": {
            "text/html": [
              "<div>\n",
              "<style scoped>\n",
              "    .dataframe tbody tr th:only-of-type {\n",
              "        vertical-align: middle;\n",
              "    }\n",
              "\n",
              "    .dataframe tbody tr th {\n",
              "        vertical-align: top;\n",
              "    }\n",
              "\n",
              "    .dataframe thead th {\n",
              "        text-align: right;\n",
              "    }\n",
              "</style>\n",
              "<table border=\"1\" class=\"dataframe\">\n",
              "  <thead>\n",
              "    <tr style=\"text-align: right;\">\n",
              "      <th></th>\n",
              "      <th>sentence_num</th>\n",
              "      <th>token</th>\n",
              "      <th>tag</th>\n",
              "    </tr>\n",
              "  </thead>\n",
              "  <tbody>\n",
              "    <tr>\n",
              "      <th>0</th>\n",
              "      <td>0</td>\n",
              "      <td>Kera</td>\n",
              "      <td>NN</td>\n",
              "    </tr>\n",
              "    <tr>\n",
              "      <th>1</th>\n",
              "      <td>0</td>\n",
              "      <td>untuk</td>\n",
              "      <td>SC</td>\n",
              "    </tr>\n",
              "    <tr>\n",
              "      <th>2</th>\n",
              "      <td>0</td>\n",
              "      <td>amankan</td>\n",
              "      <td>VB</td>\n",
              "    </tr>\n",
              "    <tr>\n",
              "      <th>3</th>\n",
              "      <td>0</td>\n",
              "      <td>pesta olahraga</td>\n",
              "      <td>NN</td>\n",
              "    </tr>\n",
              "    <tr>\n",
              "      <th>4</th>\n",
              "      <td>1</td>\n",
              "      <td>Pemerintah</td>\n",
              "      <td>NNP</td>\n",
              "    </tr>\n",
              "  </tbody>\n",
              "</table>\n",
              "</div>"
            ],
            "text/plain": [
              "   sentence_num           token  tag\n",
              "0             0            Kera   NN\n",
              "1             0           untuk   SC\n",
              "2             0         amankan   VB\n",
              "3             0  pesta olahraga   NN\n",
              "4             1      Pemerintah  NNP"
            ]
          },
          "metadata": {
            "tags": []
          },
          "execution_count": 4
        }
      ]
    },
    {
      "cell_type": "markdown",
      "metadata": {
        "id": "ZwSDbujoH8Fn"
      },
      "source": [
        "Show the POS tag distribution in the dataset"
      ]
    },
    {
      "cell_type": "code",
      "metadata": {
        "colab": {
          "base_uri": "https://localhost:8080/",
          "height": 505
        },
        "id": "fy0pL4RqwpG3",
        "outputId": "b20a8221-cef7-44ba-ffd2-6df2161f91d0"
      },
      "source": [
        "plt.figure(figsize=(16, 8))\n",
        "plt.title('POS Tag Distribution')\n",
        "ax = sns.countplot(x='tag', data=data)\n",
        "\n",
        "for p in ax.patches:\n",
        "  x=p.get_bbox().get_points()[:,0]\n",
        "  y=p.get_bbox().get_points()[1,1]\n",
        "  ax.annotate('{:d}'.format(p.get_height()), (x.mean(), y), ha='center', va='bottom')\n",
        "\n",
        "plt.show()"
      ],
      "execution_count": 5,
      "outputs": [
        {
          "output_type": "display_data",
          "data": {
            "image/png": "[encoded data removed]",
            "text/plain": [
              "<Figure size 1152x576 with 1 Axes>"
            ]
          },
          "metadata": {
            "tags": [],
            "needs_background": "light"
          }
        }
      ]
    },
    {
      "cell_type": "markdown",
      "metadata": {
        "id": "oxDwlP0WI40B"
      },
      "source": [
        "Split the dataset into train and test dataset, then train the CRF model"
      ]
    },
    {
      "cell_type": "code",
      "metadata": {
        "colab": {
          "base_uri": "https://localhost:8080/"
        },
        "id": "0zcu9qwQjiLL",
        "outputId": "10c5b213-e9e7-4abb-e4e7-9abb08a1a7d0"
      },
      "source": [
        "def dataset_to_seq(dataset):\n",
        "  return [(tok, tag) for tok, tag in zip(\n",
        "      dataset['token'].values.tolist(),\n",
        "      dataset['tag'].values.tolist())]\n",
        "\n",
        "def word2features(sent):\n",
        "    feature_list = []\n",
        "    for i in range(len(sent)):\n",
        "      token = sent[i]\n",
        "      features = {\n",
        "          'token': token,\n",
        "          'token.lower()': token.lower(),\n",
        "          'token.istitle()': token.istitle(),\n",
        "          'token.isupper()': token.isupper(),\n",
        "          'token[:2]': token[:2],\n",
        "          'token[:3]': token[:3],\n",
        "          'token[-3:]': token[:-3],\n",
        "          'token[-2:]': token[:-2],\n",
        "      }\n",
        "      if i > 0:\n",
        "          token1 = sent[i-1]\n",
        "          features.update({\n",
        "              '-1:token.lower()': token1.lower(),\n",
        "              '-1:token.istitle()': token1.istitle(),\n",
        "              '-1:token.isupper()': token1.isupper(),\n",
        "          })\n",
        "      else:\n",
        "          features['BOS'] = True\n",
        "      if i < len(sent)-1:\n",
        "          token1 = sent[i+1]\n",
        "          features.update({\n",
        "              '+1:token.lower()': token1.lower(),\n",
        "              '+1:token.istitle()': token1.istitle(),\n",
        "              '+1:token.isupper()': token1.isupper(),\n",
        "          })\n",
        "      else:\n",
        "          features['EOS'] = True\n",
        "      \n",
        "      feature_list.append(features)\n",
        "\n",
        "    return feature_list\n",
        "\n",
        "def sent2features(sent):\n",
        "    return word2features([token_tag[0] for token_tag in sent])\n",
        "\n",
        "def sent2labels(sent):\n",
        "    return [label for token, label in sent]\n",
        "\n",
        "def sent2tokens(sent):\n",
        "    return [token for token, label in sent]\n",
        "\n",
        "def dataset_to_features_labels_seq(dataset):\n",
        "  sentences = list(dataset.groupby('sentence_num').apply(dataset_to_seq))\n",
        "  X = [sent2features(s) for s in sentences]\n",
        "  y = [sent2labels(s) for s in sentences]\n",
        "  return X, y\n",
        "\n",
        "X, y = dataset_to_features_labels_seq(data)\n",
        "X_train, X_valid, y_train, y_valid = train_test_split(X, y, test_size=0.2, random_state=10)\n",
        "\n",
        "crf = sklearn_crfsuite.CRF(\n",
        "    algorithm='lbfgs',\n",
        "    c1=0.1,\n",
        "    c2=0.1,\n",
        "    max_iterations=100,\n",
        "    all_possible_transitions=True\n",
        ")\n",
        "crf.fit(X_train, y_train)\n",
        "y_pred = crf.predict(X_valid)\n",
        "print(metrics.flat_classification_report(y_valid, y_pred, digits=4))"
      ],
      "execution_count": 8,
      "outputs": [
        {
          "output_type": "stream",
          "text": [
            "              precision    recall  f1-score   support\n",
            "\n",
            "          CC     0.9875    0.9814    0.9845      1452\n",
            "          CD     0.9928    0.9907    0.9918      3774\n",
            "          DT     1.0000    0.9595    0.9793        74\n",
            "          FW     0.9398    0.7297    0.8215       492\n",
            "          IN     0.9606    0.9696    0.9651      4375\n",
            "          JJ     0.9558    0.9397    0.9477      1889\n",
            "          MD     0.9920    0.9910    0.9915      1001\n",
            "         NEG     0.9937    0.9937    0.9937       317\n",
            "          NN     0.9615    0.9761    0.9688     12314\n",
            "         NND     0.9425    0.9535    0.9480       258\n",
            "         NNP     0.9567    0.9625    0.9596      7066\n",
            "          OD     0.9062    0.9539    0.9295       152\n",
            "          PR     0.9981    0.9942    0.9962      1042\n",
            "         PRP     0.9980    0.9980    0.9980      1493\n",
            "          RB     0.9844    0.9556    0.9698       924\n",
            "          RP     1.0000    1.0000    1.0000        36\n",
            "          SC     0.9507    0.9471    0.9489      2626\n",
            "         SYM     0.9940    0.9880    0.9910       500\n",
            "          UH     1.0000    1.0000    1.0000         1\n",
            "          VB     0.9906    0.9878    0.9892      6325\n",
            "          WH     0.9057    0.8276    0.8649        58\n",
            "           X     0.9302    0.4211    0.5797        95\n",
            "           Z     0.9979    0.9979    0.9979      5242\n",
            "\n",
            "    accuracy                         0.9732     51506\n",
            "   macro avg     0.9713    0.9356    0.9485     51506\n",
            "weighted avg     0.9731    0.9732    0.9728     51506\n",
            "\n"
          ],
          "name": "stdout"
        }
      ]
    },
    {
      "cell_type": "markdown",
      "metadata": {
        "id": "txvNyjEMI_Dj"
      },
      "source": [
        "Show what the CRF model have learnt while training"
      ]
    },
    {
      "cell_type": "code",
      "metadata": {
        "colab": {
          "base_uri": "https://localhost:8080/"
        },
        "id": "cIRBNJ6zZu3X",
        "outputId": "3d7d06a8-b1a9-4141-ad50-4210560fac6c"
      },
      "source": [
        "def print_state_features(state_features):\n",
        "    for (attr, label), weight in state_features:\n",
        "        print(\"%0.6f %-8s %s\" % (weight, label, attr))\n",
        "        \n",
        "print(\"Top positive:\")\n",
        "print_state_features(Counter(crf.state_features_).most_common(30))\n",
        "print(\"\\nTop negative:\")\n",
        "print_state_features(Counter(crf.state_features_).most_common()[-30:])"
      ],
      "execution_count": 9,
      "outputs": [
        {
          "output_type": "stream",
          "text": [
            "Top positive:\n",
            "6.371633 VB       token[:2]:di\n",
            "6.314019 NNP      token.istitle()\n",
            "5.847463 CD       +1:token.lower():persen\n",
            "5.792135 NNP      token.isupper()\n",
            "5.587934 VB       token[:3]:ber\n",
            "5.425713 IN       token.lower():di\n",
            "5.367213 IN       token.lower():per\n",
            "5.135805 IN       token.lower():menurut\n",
            "5.066365 CD       token[:2]:1R\n",
            "4.995911 PRP      token.lower():mereka\n",
            "4.906084 OD       token.lower():pertama\n",
            "4.861747 IN       token.lower():kepada\n",
            "4.818932 IN       token.lower():pada\n",
            "4.811077 DT       token.lower():para\n",
            "4.782232 CD       +1:token.lower():juta\n",
            "4.737103 PRP      token.lower():kami\n",
            "4.662852 SC       token.lower():ketika\n",
            "4.604368 CC       token.lower():atau\n",
            "4.585944 CD       token[:2]:11\n",
            "4.573518 SC       token.lower():sebelum\n",
            "4.555896 CD       token.lower():banyak\n",
            "4.538835 SC       token.lower():bahwa\n",
            "4.496899 CD       token[:2]:19\n",
            "4.472201 VB       token[:2]:me\n",
            "4.469703 VB       token[:3]:men\n",
            "4.432517 IN       token.lower():tanpa\n",
            "4.423645 PRP      token.lower():dia\n",
            "4.391726 MD       token.lower():masih\n",
            "4.368398 VB       token[:3]:mem\n",
            "4.363695 IN       token.lower():dari\n",
            "\n",
            "Top negative:\n",
            "-2.256143 SC       +1:token.lower():bekerja\n",
            "-2.258244 CC       +1:token.lower():kesejahteraan\n",
            "-2.303742 NN       -1:token.lower():bersifat\n",
            "-2.305566 NNP      -1:token.lower():masyarakat\n",
            "-2.313974 VB       token[-2:]:menga\n",
            "-2.336554 NN       token[-3:]:ma\n",
            "-2.339584 NNP      -1:token.lower():indonesia\n",
            "-2.368008 NN       -1:token.lower():pemangkasan\n",
            "-2.380639 JJ       -1:token.lower():atas\n",
            "-2.429762 CC       -1:token.lower():pinjaman\n",
            "-2.477072 Z        -1:token.lower():ii\n",
            "-2.524383 NN       +1:token.lower():delegasi\n",
            "-2.540110 VB       token[-3:]:\n",
            "-2.558857 IN       -1:token.lower():dengan\n",
            "-2.570428 NNP      -1:token.lower():seoul\n",
            "-2.584463 NN       token[-3:]:pe\n",
            "-2.601125 CC       +1:token.lower():di mana\n",
            "-2.617378 IN       -1:token.lower():minggu\n",
            "-2.653363 Z        +1:token.lower():kecil\n",
            "-2.676668 Z        -1:token.lower():mikro\n",
            "-2.714395 IN       -1:token.lower():kesuksesan\n",
            "-2.821110 CC       +1:token.lower():pembangunan\n",
            "-2.824867 VB       token[:3]:di \n",
            "-2.899982 VB       token[-3:]:ber\n",
            "-3.035395 NN       token[-3:]:per\n",
            "-3.176604 VB       token[-2:]:mengen\n",
            "-3.482560 IN       -1:token.lower():di\n",
            "-3.679675 VB       +1:token.lower():lain\n",
            "-3.861111 IN       +1:token.lower():negeri\n",
            "-4.323953 IN       -1:token.lower():ke\n"
          ],
          "name": "stdout"
        }
      ]
    },
    {
      "cell_type": "markdown",
      "metadata": {
        "id": "dcjIpPY_JGDp"
      },
      "source": [
        "Save the model into file `model_postag`"
      ]
    },
    {
      "cell_type": "code",
      "metadata": {
        "id": "oQ0n-md3vdfv"
      },
      "source": [
        "with open('model_postag', 'wb') as model_out:\n",
        "  pickle.dump(crf, model_out)"
      ],
      "execution_count": 10,
      "outputs": []
    },
    {
      "cell_type": "markdown",
      "metadata": {
        "id": "opkqmzxdJjND"
      },
      "source": [
        "## Try The Model"
      ]
    },
    {
      "cell_type": "markdown",
      "metadata": {
        "id": "0Rk-_3pgJugO"
      },
      "source": [
        "Create the `POSTagger` class, which we will use for POS tagging"
      ]
    },
    {
      "cell_type": "code",
      "metadata": {
        "colab": {
          "base_uri": "https://localhost:8080/"
        },
        "id": "fFTItbvmaOrH",
        "outputId": "dd51e0b2-8ee9-4f2c-d27a-92a9213d2b3d"
      },
      "source": [
        "import nltk\n",
        "from nltk.tokenize import word_tokenize\n",
        "import pickle\n",
        "nltk.download('punkt')\n",
        "\n",
        "class POSTagger():\n",
        "  def __init__(self):\n",
        "    with open('model_postag', 'rb') as model:\n",
        "      self.model = pickle.load(model)\n",
        "\n",
        "  def tag(self, sent):\n",
        "    if isinstance(sent, list):\n",
        "      self.sent_tokenized = sent\n",
        "    elif isinstance(sent, str):\n",
        "      self.sent_tokenized = word_tokenize(sent)\n",
        "    self.pos_tags = self.model.predict_single(self.word2features(self.sent_tokenized))\n",
        "    return self.pos_tags\n",
        "\n",
        "  def word2features(self, sent):\n",
        "    feature_list = []\n",
        "    for i in range(len(sent)):\n",
        "      token = sent[i]\n",
        "      features = {\n",
        "          'token': token,\n",
        "          'token.lower()': token.lower(),\n",
        "          'token.istitle()': token.istitle(),\n",
        "          'token.isupper()': token.isupper(),\n",
        "          'token[:2]': token[:2],\n",
        "          'token[:3]': token[:3],\n",
        "          'token[-3:]': token[:-3],\n",
        "          'token[-2:]': token[:-2],\n",
        "      }\n",
        "      if i > 0:\n",
        "          token1 = sent[i-1]\n",
        "          features.update({\n",
        "              '-1:token.lower()': token1.lower(),\n",
        "              '-1:token.istitle()': token1.istitle(),\n",
        "              '-1:token.isupper()': token1.isupper(),\n",
        "          })\n",
        "      else:\n",
        "          features['BOS'] = True\n",
        "      if i < len(sent)-1:\n",
        "          token1 = sent[i+1]\n",
        "          features.update({\n",
        "              '+1:token.lower()': token1.lower(),\n",
        "              '+1:token.istitle()': token1.istitle(),\n",
        "              '+1:token.isupper()': token1.isupper(),\n",
        "          })\n",
        "      else:\n",
        "          features['EOS'] = True\n",
        "      \n",
        "      feature_list.append(features)\n",
        "\n",
        "    return feature_list\n",
        "\n",
        "pos_tagger = POSTagger()"
      ],
      "execution_count": 11,
      "outputs": [
        {
          "output_type": "stream",
          "text": [
            "[nltk_data] Downloading package punkt to /root/nltk_data...\n",
            "[nltk_data]   Unzipping tokenizers/punkt.zip.\n"
          ],
          "name": "stdout"
        }
      ]
    },
    {
      "cell_type": "markdown",
      "metadata": {
        "id": "57XRcTy8Kq0o"
      },
      "source": [
        "Try the model"
      ]
    },
    {
      "cell_type": "code",
      "metadata": {
        "colab": {
          "base_uri": "https://localhost:8080/"
        },
        "id": "irndJk4vNEnf",
        "outputId": "c25e08a8-15cc-432b-db74-770f250e35ea"
      },
      "source": [
        "print(pos_tagger.tag(\"Meraih peringkat kedua.\"))\n",
        "print(pos_tagger.tag([\"Meraih\", \"peringkat\", \"kedua\", \".\"]))"
      ],
      "execution_count": 12,
      "outputs": [
        {
          "output_type": "stream",
          "text": [
            "['VB', 'NN', 'OD', 'Z']\n",
            "['VB', 'NN', 'OD', 'Z']\n"
          ],
          "name": "stdout"
        }
      ]
    },
    {
      "cell_type": "markdown",
      "metadata": {
        "id": "rMWNPwkOGkDI"
      },
      "source": [
        "References:\n",
        "- https://towardsdatascience.com/named-entity-recognition-and-classification-with-scikit-learn-f05372f07ba2"
      ]
    }
  ]
}